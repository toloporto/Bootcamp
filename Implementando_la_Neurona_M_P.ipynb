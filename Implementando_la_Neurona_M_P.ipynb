{
  "cells": [
    {
      "cell_type": "markdown",
      "metadata": {
        "id": "view-in-github",
        "colab_type": "text"
      },
      "source": [
        "<a href=\"https://colab.research.google.com/github/toloporto/Bootcamp/blob/main/Implementando_la_Neurona_M_P.ipynb\" target=\"_parent\"><img src=\"https://colab.research.google.com/assets/colab-badge.svg\" alt=\"Open In Colab\"/></a>"
      ]
    },
    {
      "cell_type": "markdown",
      "metadata": {
        "id": "tJGi-O6jhM9t"
      },
      "source": [
        "# Caso Práctico: Neurona de McCulloch y Pitts"
      ]
    },
    {
      "cell_type": "markdown",
      "metadata": {
        "id": "f7zCfBt-hM9u"
      },
      "source": [
        "## 1. Implementación de la MPNeuron"
      ]
    },
    {
      "cell_type": "code",
      "execution_count": null,
      "metadata": {
        "id": "xOw1r7h1hM9v"
      },
      "outputs": [],
      "source": [
        "import numpy as np\n",
        "\n",
        "class MPNeuron:\n",
        "\n",
        "    def __init__(self):\n",
        "        self.threshold = None\n",
        "\n",
        "    def model(self, x):\n",
        "        # input: [1, 0, 1, 0] [x1, x2, .., xn]\n",
        "        z = sum(x)\n",
        "        return (z >= self.threshold)\n",
        "\n",
        "    def predict(self, X):\n",
        "        # input: [[1, 0, 1, 0], [1, 0, 1, 1]]\n",
        "        Y = []\n",
        "        for x in X:\n",
        "            result = self.model(x)\n",
        "            Y.append(result)\n",
        "        return np.array(Y)"
      ]
    },
    {
      "cell_type": "code",
      "execution_count": null,
      "metadata": {
        "id": "Fcj1iv6ChM9w"
      },
      "outputs": [],
      "source": [
        "# Instanciamos la neurona\n",
        "mp_neuron = MPNeuron()"
      ]
    },
    {
      "cell_type": "code",
      "execution_count": null,
      "metadata": {
        "id": "3kBMWlXzhM9w"
      },
      "outputs": [],
      "source": [
        "# Establecemos un threshold\n",
        "mp_neuron.threshold = 4"
      ]
    },
    {
      "cell_type": "code",
      "execution_count": null,
      "metadata": {
        "id": "v57bgtM4hM9x"
      },
      "outputs": [],
      "source": [
        "# Evaluamos diferentes casos de uso\n",
        "mp_neuron.predict([[1, 0, 0, 0], [1, 1, 1, 1], [1, 1, 1, 0]])"
      ]
    }
  ],
  "metadata": {
    "kernelspec": {
      "display_name": "Python 3",
      "language": "python",
      "name": "python3"
    },
    "language_info": {
      "codemirror_mode": {
        "name": "ipython",
        "version": 3
      },
      "file_extension": ".py",
      "mimetype": "text/x-python",
      "name": "python",
      "nbconvert_exporter": "python",
      "pygments_lexer": "ipython3",
      "version": "3.8.5"
    },
    "colab": {
      "provenance": [],
      "include_colab_link": true
    }
  },
  "nbformat": 4,
  "nbformat_minor": 0
}